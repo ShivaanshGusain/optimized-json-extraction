{
 "cells": [
  {
   "cell_type": "raw",
   "id": "e6c9017b",
   "metadata": {
    "vscode": {
     "languageId": "raw"
    }
   },
   "source": [
    "import json\n",
    "from faker import Faker\n",
    "\n",
    "faker = Faker()\n",
    "people = {\n",
    "    \"people\": []\n",
    "}\n",
    "for i in range(200_000):\n",
    "    person = {\n",
    "        \"first_name\": faker.first_name(),\n",
    "        \"last_name\": faker.last_name(),\n",
    "        \"age\": faker.random_int(min=18, max=100),\n",
    "        \"email\": faker.email(),\n",
    "        \"phone_number\": faker.phone_number(),\n",
    "        \"address\": faker.address(),\n",
    "        \"job\": faker.job(),\n",
    "        \"company\": faker.company(),\n",
    "        \"salary\": faker.random_int(min=10000, max=100000),\n",
    "        \"credit_card\": faker.credit_card_number(),\n",
    "        \"password\": faker.password(length=12, special_chars=True, digits=True, upper_case=True, lower_case=True)\n",
    "    }\n",
    "    people[\"people\"].append(person)\n",
    "    print(i/200_000, end=\"\\r\", flush=False)\n",
    "\n",
    "with open(\"data.json\", \"w\") as f:\n",
    "    f.write(json.dumps(people, indent=4))"
   ]
  },
  {
   "cell_type": "code",
   "execution_count": 6,
   "id": "a389e32c",
   "metadata": {},
   "outputs": [
    {
     "name": "stdout",
     "output_type": "stream",
     "text": [
      "54846.208315\n",
      "59.05483\n",
      "Runtime: 16.484132 seconds\n"
     ]
    }
   ],
   "source": [
    "from time import perf_counter\n",
    "\n",
    "start = perf_counter()\n",
    "import pandas as pd\n",
    "import json\n",
    "\n",
    "with open('data.json') as f:\n",
    "    data = json.load(f)\n",
    "\n",
    "df = pd.DataFrame(data['people'])\n",
    "# Converting to a dataframe object takes time.\n",
    "# pd.set_option('display.max.rows', 200000)\n",
    "# print(df['first_name'])\n",
    "# takes time, 6.7 seconds\n",
    "S = sum(df['salary'])/200000\n",
    "S2 = sum(df['age'])/200000\n",
    "print(S)\n",
    "print(S2)\n",
    "\n",
    "end = perf_counter()\n",
    "print(f'Runtime: { end-start:.6f} seconds')\n"
   ]
  },
  {
   "cell_type": "code",
   "execution_count": null,
   "id": "88fd2a7e",
   "metadata": {},
   "outputs": [],
   "source": [
    "x1 = hex(id(df['first_name'][0]) - id(df['first_name'][1]))\n",
    "x2 = hex(id(df['first_name'][2]) - id(df['first_name'][3]))\n",
    "print(x1, x2)\n"
   ]
  },
  {
   "cell_type": "code",
   "execution_count": null,
   "id": "1997cf70",
   "metadata": {},
   "outputs": [],
   "source": [
    "pip install json-stream"
   ]
  },
  {
   "cell_type": "code",
   "execution_count": 9,
   "id": "ddf8d4cb",
   "metadata": {},
   "outputs": [
    {
     "name": "stdout",
     "output_type": "stream",
     "text": [
      "Average age: 59.05483 \n",
      "Average salary: 54846.208315\n"
     ]
    }
   ],
   "source": [
    "import ijson\n",
    "\n",
    "def compute_averages(path):\n",
    "    total_age = 0\n",
    "    total_salary = 0\n",
    "    count = 0\n",
    "\n",
    "    with open(path, 'r') as f:\n",
    "        # Stream each person object inside \"people\"\n",
    "        people = ijson.items(f, 'people.item')\n",
    "\n",
    "        for person in people:\n",
    "            total_age += person.get('age', 0)\n",
    "            total_salary += person.get('salary', 0)\n",
    "            count += 1\n",
    "\n",
    "    avg_age = total_age / count if count else 0\n",
    "    avg_salary = total_salary / count if count else 0\n",
    "\n",
    "    return avg_age, avg_salary\n",
    "\n",
    "avg_age, avg_salary = compute_averages('data.json')\n",
    "print(f\"Average age: {avg_age} \")\n",
    "print(f\"Average salary: {avg_salary}\")\n"
   ]
  },
  {
   "cell_type": "code",
   "execution_count": null,
   "id": "8d00b3d1",
   "metadata": {},
   "outputs": [],
   "source": []
  },
  {
   "cell_type": "code",
   "execution_count": 32,
   "id": "b6788e21",
   "metadata": {},
   "outputs": [
    {
     "name": "stdout",
     "output_type": "stream",
     "text": [
      "59.05483\n",
      "54846.208315\n",
      "\n",
      "Runtime: 2.982868 seconds\n"
     ]
    }
   ],
   "source": [
    "from ijson import items\n",
    "from time import perf_counter\n",
    "\n",
    "start = perf_counter()\n",
    "with open('data.json', 'r') as data:\n",
    "    total_age = 0\n",
    "    total_salary = 0\n",
    "    something = ijson.items(data,'people.item')\n",
    "    for people in something:\n",
    "        total_age+=people.get('age',0)\n",
    "        total_salary+= people.get('salary',0)\n",
    "\n",
    "        #people.get(the name of the variable field, default return value)\n",
    "        \n",
    "    print(total_age/200000)\n",
    "    print(total_salary/200000)\n",
    "\n",
    "end = perf_counter()\n",
    "print()\n",
    "print(f'Runtime: { end-start:.6f} seconds')\n"
   ]
  },
  {
   "cell_type": "raw",
   "id": "e678ea28",
   "metadata": {},
   "source": [
    "ABOVE CODE - 3.1 sec\n",
    "AFTER ONLY IMPORTING items - 2.7 sec"
   ]
  },
  {
   "cell_type": "code",
   "execution_count": 18,
   "id": "425976c3",
   "metadata": {},
   "outputs": [
    {
     "name": "stdout",
     "output_type": "stream",
     "text": [
      "Collecting orjson\n",
      "  Downloading orjson-3.10.18-cp312-cp312-win_amd64.whl.metadata (43 kB)\n",
      "Downloading orjson-3.10.18-cp312-cp312-win_amd64.whl (134 kB)\n",
      "Installing collected packages: orjson\n",
      "Successfully installed orjson-3.10.18\n",
      "Note: you may need to restart the kernel to use updated packages.\n"
     ]
    },
    {
     "name": "stderr",
     "output_type": "stream",
     "text": [
      "\n",
      "[notice] A new release of pip is available: 25.1 -> 25.1.1\n",
      "[notice] To update, run: python.exe -m pip install --upgrade pip\n"
     ]
    }
   ],
   "source": [
    "pip install orjson"
   ]
  },
  {
   "cell_type": "code",
   "execution_count": 12,
   "id": "fc8b34e8",
   "metadata": {},
   "outputs": [
    {
     "name": "stdout",
     "output_type": "stream",
     "text": [
      "59.05483\n",
      "54846.208315\n",
      "Runtime: 0.208190 seconds\n"
     ]
    }
   ],
   "source": [
    "from time import perf_counter\n",
    "\n",
    "from orjson import loads\n",
    "from numpy import array, mean\n",
    "\n",
    "with open('data.json','r') as f:\n",
    "    data = loads(f.read())\n",
    "    start = perf_counter()\n",
    "\n",
    "    total_age = 0\n",
    "    total_salary = 0\n",
    "    ages = array([(person['age'],person['salary']) for person in data['people']])\n",
    "    #salaries = array([person['salary'] for person in data['people']])\n",
    "\n",
    "print(mean(ages[:,0]))\n",
    "print(mean(ages[:,1]))\n",
    "end = perf_counter()\n",
    "print(f'Runtime: { end-start:.6f} seconds')\n",
    "    "
   ]
  },
  {
   "cell_type": "raw",
   "id": "e4b3282f",
   "metadata": {
    "vscode": {
     "languageId": "raw"
    }
   },
   "source": [
    "ABOVE CODE RUNTIME- 1.501878 seconds\n",
    "SUCCESS AND CLOSE!!!"
   ]
  },
  {
   "cell_type": "code",
   "execution_count": null,
   "id": "65da5d8c",
   "metadata": {},
   "outputs": [],
   "source": []
  },
  {
   "cell_type": "code",
   "execution_count": null,
   "id": "7a2bb84a",
   "metadata": {},
   "outputs": [],
   "source": []
  },
  {
   "cell_type": "code",
   "execution_count": null,
   "id": "249cf694",
   "metadata": {},
   "outputs": [],
   "source": []
  }
 ],
 "metadata": {
  "kernelspec": {
   "display_name": "Python 3",
   "language": "python",
   "name": "python3"
  },
  "language_info": {
   "name": "python",
   "version": "3.12.5"
  }
 },
 "nbformat": 4,
 "nbformat_minor": 5
}
